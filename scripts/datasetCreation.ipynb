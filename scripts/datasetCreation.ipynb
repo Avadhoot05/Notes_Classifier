{
  "nbformat": 4,
  "nbformat_minor": 0,
  "metadata": {
    "colab": {
      "name": "datasetCreation",
      "provenance": [],
      "collapsed_sections": []
    },
    "kernelspec": {
      "name": "python3",
      "display_name": "Python 3"
    }
  },
  "cells": [
    {
      "cell_type": "code",
      "metadata": {
        "id": "JglrJz99dGKk",
        "colab_type": "code",
        "colab": {}
      },
      "source": [
        "import math\n",
        "import numpy as np\n",
        "import h5py\n",
        "import matplotlib.pyplot as plt\n",
        "import pandas as pd\n",
        "import tensorflow as tf\n",
        "from tensorflow.python.framework import ops\n",
        "#from tf_utils import load_dataset, random_mini_batches, convert_to_one_hot, predict"
      ],
      "execution_count": null,
      "outputs": []
    },
    {
      "cell_type": "code",
      "metadata": {
        "id": "tB1Xe0YxNcyS",
        "colab_type": "code",
        "colab": {
          "base_uri": "https://localhost:8080/",
          "height": 121
        },
        "outputId": "c32afe18-f01f-493e-c25a-36fbbfa79783"
      },
      "source": [
        "from google.colab import drive\n",
        "drive.mount('/content/drive')"
      ],
      "execution_count": null,
      "outputs": [
        {
          "output_type": "stream",
          "text": [
            "Go to this URL in a browser: https://accounts.google.com/o/oauth2/auth?client_id=947318989803-6bn6qk8qdgf4n4g3pfee6491hc0brc4i.apps.googleusercontent.com&redirect_uri=urn%3aietf%3awg%3aoauth%3a2.0%3aoob&response_type=code&scope=email%20https%3a%2f%2fwww.googleapis.com%2fauth%2fdocs.test%20https%3a%2f%2fwww.googleapis.com%2fauth%2fdrive%20https%3a%2f%2fwww.googleapis.com%2fauth%2fdrive.photos.readonly%20https%3a%2f%2fwww.googleapis.com%2fauth%2fpeopleapi.readonly\n",
            "\n",
            "Enter your authorization code:\n",
            "··········\n",
            "Mounted at /content/drive\n"
          ],
          "name": "stdout"
        }
      ]
    },
    {
      "cell_type": "code",
      "metadata": {
        "id": "BCZX8oQXuSfC",
        "colab_type": "code",
        "colab": {}
      },
      "source": [
        "def convert_to_one_hot(Y, C):\n",
        "    Y = np.eye(C)[Y.reshape(-1)].T\n",
        "    return Y.astype(int)"
      ],
      "execution_count": null,
      "outputs": []
    },
    {
      "cell_type": "code",
      "metadata": {
        "id": "dGeG1lF3sSGv",
        "colab_type": "code",
        "colab": {
          "base_uri": "https://localhost:8080/",
          "height": 34
        },
        "outputId": "701b86aa-b1d4-4bc8-b3cc-80e52f2e5d7f"
      },
      "source": [
        "X_flat_df = pd.read_csv(\"/content/drive/My Drive/Total_input_data(X).csv\")\n",
        "X_flat = np.array(X_flat_df)\n",
        "Y_flat_df = pd.read_csv(\"/content/drive/My Drive/Total_output_data(Y).csv\")\n",
        "Y_flat = np.array(Y_flat_df)\n",
        "print(\"{} and {}\".format(Y_flat.shape,X_flat.shape))"
      ],
      "execution_count": null,
      "outputs": [
        {
          "output_type": "stream",
          "text": [
            "(1, 660) and (12288, 660)\n"
          ],
          "name": "stdout"
        }
      ]
    },
    {
      "cell_type": "code",
      "metadata": {
        "id": "MHKZHupiqQ4g",
        "colab_type": "code",
        "colab": {
          "base_uri": "https://localhost:8080/",
          "height": 34
        },
        "outputId": "c20ea1a6-04fd-4e4c-8c46-9a5c341680b1"
      },
      "source": [
        "X_train = X_flat/255\n",
        "Y_train = convert_to_one_hot(Y_flat,2)\n",
        "print(\"{} and {}\".format(Y_train.shape,X_train.shape))"
      ],
      "execution_count": null,
      "outputs": [
        {
          "output_type": "stream",
          "text": [
            "(2, 660) and (12288, 660)\n"
          ],
          "name": "stdout"
        }
      ]
    },
    {
      "cell_type": "code",
      "metadata": {
        "id": "A5LgqPWAusHq",
        "colab_type": "code",
        "colab": {
          "base_uri": "https://localhost:8080/",
          "height": 34
        },
        "outputId": "df78ed69-2aaa-48b5-e8b4-0dd9ff332697"
      },
      "source": [
        "df = pd.DataFrame(X_train)\n",
        "df.to_csv(\"/content/drive/My Drive/Total_input_data_encoded(X).csv\",index=False)\n",
        "df = pd.DataFrame(Y_train)\n",
        "df.to_csv(\"/content/drive/My Drive/Total_output_data_encoded(Y).csv\",index=False)"
      ],
      "execution_count": null,
      "outputs": [
        {
          "output_type": "execute_result",
          "data": {
            "text/plain": [
              "'df = pd.DataFrame(Y_train)\\ndf.to_csv(\"/content/drive/My Drive/Total_output_data_encoded(Y).csv\",index=False)'"
            ]
          },
          "metadata": {
            "tags": []
          },
          "execution_count": 10
        }
      ]
    },
    {
      "cell_type": "code",
      "metadata": {
        "id": "UTyz2N_yOSFK",
        "colab_type": "code",
        "colab": {
          "base_uri": "https://localhost:8080/",
          "height": 34
        },
        "outputId": "51c1a50f-f572-4e85-ff95-25ac4278faff"
      },
      "source": [
        "perm = list(np.random.permutation(660))\n",
        "shuff_X = X_train[:,perm]\n",
        "shuff_Y = Y_train[:,perm].reshape((2,660))\n",
        "print(\"{} and {}\".format(shuff_Y.shape,shuff_X.shape))"
      ],
      "execution_count": null,
      "outputs": [
        {
          "output_type": "stream",
          "text": [
            "(2, 660) and (12288, 660)\n"
          ],
          "name": "stdout"
        }
      ]
    },
    {
      "cell_type": "code",
      "metadata": {
        "id": "RcJ5jhkzOv4o",
        "colab_type": "code",
        "colab": {}
      },
      "source": [
        "df1 = pd.DataFrame(shuff_X)\n",
        "df2 = pd.DataFrame(shuff_Y)\n",
        "\n",
        "df1.to_csv(\"/content/drive/My Drive/Total_input_data_shuffle(X).csv\",index=False)\n",
        "df2.to_csv(\"/content/drive/My Drive/Total_output_data_shuffle(Y).csv\",index=False)"
      ],
      "execution_count": null,
      "outputs": []
    }
  ]
}